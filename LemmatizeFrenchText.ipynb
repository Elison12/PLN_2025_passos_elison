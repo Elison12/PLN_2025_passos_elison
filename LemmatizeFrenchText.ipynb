{
  "cells": [
    {
      "cell_type": "markdown",
      "metadata": {
        "id": "UDwMqXKA4PnV"
      },
      "source": [
        "importação da biblioteca de linguagem natural.\n",
        "https://www.nltk.org/index.html"
      ]
    },
    {
      "cell_type": "code",
      "execution_count": 12,
      "metadata": {
        "id": "_xwPa2BB3Bzj"
      },
      "outputs": [],
      "source": [
        "from nltk import stem"
      ]
    },
    {
      "cell_type": "markdown",
      "metadata": {
        "id": "nG41X7IC43zQ"
      },
      "source": [
        "Identificar afixos morfológicos. Quaisquer substrings que correspondam às expressões regulares serão removidas."
      ]
    },
    {
      "cell_type": "code",
      "execution_count": 13,
      "metadata": {
        "id": "ytSY1VXe3WE8"
      },
      "outputs": [],
      "source": [
        "stemmer = stem.RegexpStemmer('s$|es$|era$|erez$|ions$| <etc> ')"
      ]
    },
    {
      "cell_type": "markdown",
      "metadata": {
        "id": "7RV74O-u6E76"
      },
      "source": [
        " Importação do Algoritmo \"snowball Stemmer\" para reduzir palavras à sua forma básica ou raiz, que é conhecida como stem. Aqui, excluivo para o idioma francês."
      ]
    },
    {
      "cell_type": "code",
      "execution_count": 1,
      "metadata": {
        "id": "VIWeSVWJ32lO"
      },
      "outputs": [
        {
          "ename": "ModuleNotFoundError",
          "evalue": "No module named 'nltk'",
          "output_type": "error",
          "traceback": [
            "\u001b[1;31m---------------------------------------------------------------------------\u001b[0m",
            "\u001b[1;31mModuleNotFoundError\u001b[0m                       Traceback (most recent call last)",
            "Cell \u001b[1;32mIn[1], line 1\u001b[0m\n\u001b[1;32m----> 1\u001b[0m \u001b[38;5;28;01mfrom\u001b[39;00m \u001b[38;5;21;01mnltk\u001b[39;00m\u001b[38;5;21;01m.\u001b[39;00m\u001b[38;5;21;01mstem\u001b[39;00m\u001b[38;5;21;01m.\u001b[39;00m\u001b[38;5;21;01msnowball\u001b[39;00m \u001b[38;5;28;01mimport\u001b[39;00m FrenchStemmer\n",
            "\u001b[1;31mModuleNotFoundError\u001b[0m: No module named 'nltk'"
          ]
        }
      ],
      "source": [
        "from nltk.stem.snowball import FrenchStemmer"
      ]
    },
    {
      "cell_type": "code",
      "execution_count": null,
      "metadata": {
        "id": "6XtZSuDR39EV"
      },
      "outputs": [],
      "source": [
        "stemmer = FrenchStemmer()"
      ]
    },
    {
      "cell_type": "code",
      "execution_count": 16,
      "metadata": {
        "colab": {
          "base_uri": "https://localhost:8080/",
          "height": 35
        },
        "id": "kug8jt9I3_mJ",
        "outputId": "f27c8bcf-9be0-4f72-f967-41d65a820928"
      },
      "outputs": [
        {
          "data": {
            "application/vnd.google.colaboratory.intrinsic+json": {
              "type": "string"
            },
            "text/plain": [
              "'voudr'"
            ]
          },
          "execution_count": 16,
          "metadata": {},
          "output_type": "execute_result"
        }
      ],
      "source": [
        "stemmer.stem('voudrais')"
      ]
    },
    {
      "cell_type": "code",
      "execution_count": 17,
      "metadata": {
        "colab": {
          "base_uri": "https://localhost:8080/",
          "height": 35
        },
        "id": "xkP7Ce2U4C2o",
        "outputId": "db10b608-8816-4198-9350-5a8eb7cc55ad"
      },
      "outputs": [
        {
          "data": {
            "application/vnd.google.colaboratory.intrinsic+json": {
              "type": "string"
            },
            "text/plain": [
              "'animal'"
            ]
          },
          "execution_count": 17,
          "metadata": {},
          "output_type": "execute_result"
        }
      ],
      "source": [
        "stemmer.stem('animaux')"
      ]
    }
  ],
  "metadata": {
    "colab": {
      "provenance": []
    },
    "kernelspec": {
      "display_name": "Python 3",
      "name": "python3"
    },
    "language_info": {
      "codemirror_mode": {
        "name": "ipython",
        "version": 3
      },
      "file_extension": ".py",
      "mimetype": "text/x-python",
      "name": "python",
      "nbconvert_exporter": "python",
      "pygments_lexer": "ipython3",
      "version": "3.12.5"
    }
  },
  "nbformat": 4,
  "nbformat_minor": 0
}
